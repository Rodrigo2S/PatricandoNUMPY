{
 "cells": [
  {
   "cell_type": "code",
   "execution_count": 1,
   "id": "d791a2da",
   "metadata": {},
   "outputs": [],
   "source": [
    "import numpy as np"
   ]
  },
  {
   "cell_type": "markdown",
   "id": "fc2fc286",
   "metadata": {},
   "source": [
    "### Podemos criar um array unidimensional atribuindo-o a uma variável e chamando-o em seguida:"
   ]
  },
  {
   "cell_type": "code",
   "execution_count": 2,
   "id": "b164f385",
   "metadata": {},
   "outputs": [
    {
     "data": {
      "text/plain": [
       "array([1, 2, 3, 4, 5, 6])"
      ]
     },
     "execution_count": 2,
     "metadata": {},
     "output_type": "execute_result"
    }
   ],
   "source": [
    "\n",
    "a1 = np.array([1, 2, 3, 4, 5, 6])\n",
    "a1"
   ]
  },
  {
   "cell_type": "markdown",
   "id": "7362575d",
   "metadata": {},
   "source": [
    "### Um array bidimensional ficaria assim:"
   ]
  },
  {
   "cell_type": "code",
   "execution_count": 3,
   "id": "17183b9a",
   "metadata": {},
   "outputs": [
    {
     "data": {
      "text/plain": [
       "array([[1, 2, 3],\n",
       "       [4, 5, 6],\n",
       "       [7, 8, 9]])"
      ]
     },
     "execution_count": 3,
     "metadata": {},
     "output_type": "execute_result"
    }
   ],
   "source": [
    "\n",
    "a2 = np.array([[1, 2, 3], [4, 5, 6], [7, 8, 9]])\n",
    "a2"
   ]
  },
  {
   "cell_type": "markdown",
   "id": "2eebb970",
   "metadata": {},
   "source": [
    "### Um array n-dimensional poderia ser:"
   ]
  },
  {
   "cell_type": "code",
   "execution_count": 4,
   "id": "85af9d7c",
   "metadata": {},
   "outputs": [
    {
     "data": {
      "text/plain": [
       "array([[[0, 1, 2, 3],\n",
       "        [4, 5, 6, 7]],\n",
       "\n",
       "       [[0, 1, 2, 3],\n",
       "        [4, 5, 6, 7]],\n",
       "\n",
       "       [[0, 1, 2, 3],\n",
       "        [4, 5, 6, 7]]])"
      ]
     },
     "execution_count": 4,
     "metadata": {},
     "output_type": "execute_result"
    }
   ],
   "source": [
    "\n",
    "a3 = np.array([[[0, 1, 2, 3],[4, 5, 6, 7]],[[0, 1, 2, 3],[4, 5, 6, 7]],[[0 ,1 ,2, 3],[4, 5, 6, 7]]])\n",
    "a3"
   ]
  },
  {
   "cell_type": "markdown",
   "id": "7d2b38a3",
   "metadata": {},
   "source": [
    "### Isto gerará um array com os números de 0 a 99.\n",
    "\n",
    "#### Os métodos np.zeros(), np.ones e np.empy() \n",
    "#### funcionam de forma parecida. O primeiro gera um array de zeros.\n",
    "#### O segundo, de números 1 (um). O terceiro, uma lista com elementos numéricos quaisquer.\n",
    "#### Entre parênteses, devemos informar a quantidade de elementos do array."
   ]
  },
  {
   "cell_type": "code",
   "execution_count": 6,
   "id": "8d9f8daa",
   "metadata": {},
   "outputs": [
    {
     "data": {
      "text/plain": [
       "array([ 0,  1,  2,  3,  4,  5,  6,  7,  8,  9, 10, 11, 12, 13, 14, 15, 16,\n",
       "       17, 18, 19, 20, 21, 22, 23, 24, 25, 26, 27, 28, 29, 30, 31, 32, 33,\n",
       "       34, 35, 36, 37, 38, 39, 40, 41, 42, 43, 44, 45, 46, 47, 48, 49, 50,\n",
       "       51, 52, 53, 54, 55, 56, 57, 58, 59, 60, 61, 62, 63, 64, 65, 66, 67,\n",
       "       68, 69, 70, 71, 72, 73, 74, 75, 76, 77, 78, 79, 80, 81, 82, 83, 84,\n",
       "       85, 86, 87, 88, 89, 90, 91, 92, 93, 94, 95, 96, 97, 98, 99])"
      ]
     },
     "execution_count": 6,
     "metadata": {},
     "output_type": "execute_result"
    }
   ],
   "source": [
    "\n",
    "a4 = np.arange(100)\n",
    "a4"
   ]
  },
  {
   "cell_type": "markdown",
   "id": "3a6ead9e",
   "metadata": {},
   "source": [
    "### Podemos ordenar um array com o método sort():"
   ]
  },
  {
   "cell_type": "code",
   "execution_count": 9,
   "id": "72979075",
   "metadata": {},
   "outputs": [
    {
     "data": {
      "text/plain": [
       "array([0, 1, 2, 3, 4, 5, 6, 7, 8, 9])"
      ]
     },
     "execution_count": 9,
     "metadata": {},
     "output_type": "execute_result"
    }
   ],
   "source": [
    "\n",
    "a5 = np.array([6, 7, 2, 4, 5, 3, 8, 1, 9, 0])\n",
    "np.sort(a5)"
   ]
  },
  {
   "cell_type": "markdown",
   "id": "45d4c623",
   "metadata": {},
   "source": [
    "### Ou remodelar um array — no nosso caso, de 9 elementos para 3 linhas e 3 colunas — com reshape():"
   ]
  },
  {
   "cell_type": "code",
   "execution_count": 10,
   "id": "863523fd",
   "metadata": {},
   "outputs": [
    {
     "data": {
      "text/plain": [
       "array([[1, 2, 3],\n",
       "       [4, 5, 6],\n",
       "       [7, 8, 9]])"
      ]
     },
     "execution_count": 10,
     "metadata": {},
     "output_type": "execute_result"
    }
   ],
   "source": [
    "a6 = np.array([1, 2, 3, 4, 5, 6, 7, 8, 9])\n",
    "a6.reshape(3,3)"
   ]
  },
  {
   "cell_type": "markdown",
   "id": "8812734d",
   "metadata": {},
   "source": [
    "### concatenar dois arrays em um único com concatenate():"
   ]
  },
  {
   "cell_type": "code",
   "execution_count": 11,
   "id": "f9eb172c",
   "metadata": {},
   "outputs": [
    {
     "data": {
      "text/plain": [
       "array([0, 1, 2, 3, 4, 5, 6, 7, 8, 9])"
      ]
     },
     "execution_count": 11,
     "metadata": {},
     "output_type": "execute_result"
    }
   ],
   "source": [
    "a71 = np.array([0,1,2,3,4])\n",
    "a72 = np.array([5,6,7,8,9])\n",
    "np.concatenate((a71, a72))"
   ]
  },
  {
   "cell_type": "markdown",
   "id": "74052f2e",
   "metadata": {},
   "source": [
    "### Podemos fatiar um array em outros arrays, da mesma forma que fazemos fatiamento (slicing) em listas de Python:"
   ]
  },
  {
   "cell_type": "code",
   "execution_count": 12,
   "id": "16347201",
   "metadata": {},
   "outputs": [],
   "source": [
    "a80 = np.array([0, 1, 2, 3, 4, 5, 6, 7, 8, 9])\n",
    "a81 = a80[3:6] # Resultado: array([3, 4, 5])\n",
    "a82 = a80[5:]  # Resultado: array([5, 6, 7, 8, 9])"
   ]
  },
  {
   "cell_type": "code",
   "execution_count": 13,
   "id": "19ac5298",
   "metadata": {},
   "outputs": [
    {
     "data": {
      "text/plain": [
       "array([3, 4, 5])"
      ]
     },
     "execution_count": 13,
     "metadata": {},
     "output_type": "execute_result"
    }
   ],
   "source": [
    "a81"
   ]
  },
  {
   "cell_type": "code",
   "execution_count": 14,
   "id": "cbea569d",
   "metadata": {},
   "outputs": [
    {
     "data": {
      "text/plain": [
       "array([5, 6, 7, 8, 9])"
      ]
     },
     "execution_count": 14,
     "metadata": {},
     "output_type": "execute_result"
    }
   ],
   "source": [
    "a82"
   ]
  },
  {
   "cell_type": "markdown",
   "id": "da5b677b",
   "metadata": {},
   "source": [
    "### Podemos, também, dividir uma matriz com duas colunas em dois arrays diferentes com array_split():"
   ]
  },
  {
   "cell_type": "code",
   "execution_count": 16,
   "id": "8ea7475c",
   "metadata": {},
   "outputs": [
    {
     "data": {
      "text/plain": [
       "[array([['1', '2', '3', '4', '5']], dtype='<U11'),\n",
       " array([['a', 'b', 'c', 'd', 'e']], dtype='<U11')]"
      ]
     },
     "execution_count": 16,
     "metadata": {},
     "output_type": "execute_result"
    }
   ],
   "source": [
    "a90 = np.array([[1, 2, 3, 4, 5],['a','b','c','d','e']])\n",
    "a91 = np.array_split(a90, (2))\n",
    "a91"
   ]
  },
  {
   "cell_type": "markdown",
   "id": "c5900fdf",
   "metadata": {},
   "source": [
    "### O método ndim permite saber a dimensão (como, neste exemplo, do nosso array atribuído à variável a3, anteriormente):"
   ]
  },
  {
   "cell_type": "code",
   "execution_count": 18,
   "id": "3e3ca6a1",
   "metadata": {},
   "outputs": [
    {
     "data": {
      "text/plain": [
       "3"
      ]
     },
     "execution_count": 18,
     "metadata": {},
     "output_type": "execute_result"
    }
   ],
   "source": [
    "a3.ndim\n",
    "# Resultado: 3 (significa que tem 3 dimensões)"
   ]
  },
  {
   "cell_type": "markdown",
   "id": "59354643",
   "metadata": {},
   "source": [
    "### Para o tamanho, usamos size"
   ]
  },
  {
   "cell_type": "code",
   "execution_count": 19,
   "id": "b5b98b80",
   "metadata": {},
   "outputs": [
    {
     "data": {
      "text/plain": [
       "24"
      ]
     },
     "execution_count": 19,
     "metadata": {},
     "output_type": "execute_result"
    }
   ],
   "source": [
    "a3.size\n",
    "# Resultado: 3 (significa que tem 24 elementos)"
   ]
  },
  {
   "cell_type": "markdown",
   "id": "fe8706a4",
   "metadata": {},
   "source": [
    "### Nosso array a1 possui 6 elementos, de 1 a 6. Podemos fatiar todos os que estão antes do índice 3 com:"
   ]
  },
  {
   "cell_type": "code",
   "execution_count": 20,
   "id": "cc4fbbba",
   "metadata": {},
   "outputs": [
    {
     "data": {
      "text/plain": [
       "array([1, 2])"
      ]
     },
     "execution_count": 20,
     "metadata": {},
     "output_type": "execute_result"
    }
   ],
   "source": [
    "a1[a1 < 3]\n",
    "# Resultado: array([1, 2])"
   ]
  },
  {
   "cell_type": "markdown",
   "id": "8c2db570",
   "metadata": {},
   "source": [
    "### encontrar todos os elementos divisíveis por 2 com:\n"
   ]
  },
  {
   "cell_type": "code",
   "execution_count": 21,
   "id": "6b864d63",
   "metadata": {},
   "outputs": [
    {
     "data": {
      "text/plain": [
       "array([2, 4, 6])"
      ]
     },
     "execution_count": 21,
     "metadata": {},
     "output_type": "execute_result"
    }
   ],
   "source": [
    "a1[a1%2==0]\n",
    "# Resultado: array([2, 4, 6])"
   ]
  },
  {
   "cell_type": "markdown",
   "id": "c9c9631f",
   "metadata": {},
   "source": [
    "### Operações básicas"
   ]
  },
  {
   "cell_type": "code",
   "execution_count": 22,
   "id": "77cbec01",
   "metadata": {},
   "outputs": [
    {
     "name": "stdout",
     "output_type": "stream",
     "text": [
      "[3 4 3 3]\n",
      "[-1  0  1 -1]\n",
      "[2 4 2 2]\n",
      "[0.5 1.  2.  0.5]\n"
     ]
    }
   ],
   "source": [
    "b1 = np.array([1,2,2,1])\n",
    "b2 = np.array([2,2,1,2])\n",
    "print(b1 + b2)\n",
    "print(b1 - b2)\n",
    "print(b1 * b2)\n",
    "print(b1 / b2)"
   ]
  },
  {
   "cell_type": "markdown",
   "id": "1b53fc70",
   "metadata": {},
   "source": [
    "### Se quisermos somar todos os elementos de arrays, usamos sum():"
   ]
  },
  {
   "cell_type": "code",
   "execution_count": 23,
   "id": "a7a939f0",
   "metadata": {},
   "outputs": [
    {
     "data": {
      "text/plain": [
       "45"
      ]
     },
     "execution_count": 23,
     "metadata": {},
     "output_type": "execute_result"
    }
   ],
   "source": [
    "b3 = np.array([0,1,2,3,4,5,6,7,8,9])\n",
    "b3.sum()"
   ]
  },
  {
   "cell_type": "markdown",
   "id": "217e5cbc",
   "metadata": {},
   "source": [
    "### Precisamos saber qual o maior elemento? Usamos max():"
   ]
  },
  {
   "cell_type": "code",
   "execution_count": 24,
   "id": "5b5cb5c6",
   "metadata": {},
   "outputs": [
    {
     "data": {
      "text/plain": [
       "9"
      ]
     },
     "execution_count": 24,
     "metadata": {},
     "output_type": "execute_result"
    }
   ],
   "source": [
    "b3.max()"
   ]
  },
  {
   "cell_type": "markdown",
   "id": "e4956a09",
   "metadata": {},
   "source": [
    "### O menor elemento é buscado com min():"
   ]
  },
  {
   "cell_type": "code",
   "execution_count": 25,
   "id": "94cbbc6a",
   "metadata": {},
   "outputs": [
    {
     "data": {
      "text/plain": [
       "0"
      ]
     },
     "execution_count": 25,
     "metadata": {},
     "output_type": "execute_result"
    }
   ],
   "source": [
    "b3.min()"
   ]
  },
  {
   "cell_type": "markdown",
   "id": "b2fffa07",
   "metadata": {},
   "source": [
    "### Queremos a média, uma medida já da Estatística Descritiva? Numpy fornece por meio de mean():"
   ]
  },
  {
   "cell_type": "code",
   "execution_count": 26,
   "id": "cb626ae9",
   "metadata": {},
   "outputs": [
    {
     "data": {
      "text/plain": [
       "4.5"
      ]
     },
     "execution_count": 26,
     "metadata": {},
     "output_type": "execute_result"
    }
   ],
   "source": [
    "b3.mean()\n",
    "# Resultado: 4.5"
   ]
  },
  {
   "cell_type": "markdown",
   "id": "59fd2703",
   "metadata": {},
   "source": [
    "### Para multiplicar todos os elementos de um vetor, usamos prod():"
   ]
  },
  {
   "cell_type": "code",
   "execution_count": 27,
   "id": "e0143cff",
   "metadata": {},
   "outputs": [
    {
     "data": {
      "text/plain": [
       "15"
      ]
     },
     "execution_count": 27,
     "metadata": {},
     "output_type": "execute_result"
    }
   ],
   "source": [
    "b4 = ([1,3,5])\n",
    "np.prod(b4)\n",
    "# Resultado: 15"
   ]
  },
  {
   "cell_type": "code",
   "execution_count": null,
   "id": "f96c69ae",
   "metadata": {},
   "outputs": [],
   "source": []
  }
 ],
 "metadata": {
  "kernelspec": {
   "display_name": "Python 3 (ipykernel)",
   "language": "python",
   "name": "python3"
  },
  "language_info": {
   "codemirror_mode": {
    "name": "ipython",
    "version": 3
   },
   "file_extension": ".py",
   "mimetype": "text/x-python",
   "name": "python",
   "nbconvert_exporter": "python",
   "pygments_lexer": "ipython3",
   "version": "3.9.12"
  }
 },
 "nbformat": 4,
 "nbformat_minor": 5
}
