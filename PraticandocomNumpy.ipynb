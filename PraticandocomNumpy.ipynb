{
 "cells": [
  {
   "cell_type": "code",
   "execution_count": 1,
   "id": "4494f63b",
   "metadata": {},
   "outputs": [],
   "source": [
    "import numpy as np"
   ]
  },
  {
   "cell_type": "markdown",
   "id": "bcd7eb06",
   "metadata": {},
   "source": [
    "### Podemos criar um array unidimensional atribuindo-o a uma variável e chamando-o em seguida:"
   ]
  },
  {
   "cell_type": "code",
   "execution_count": 2,
   "id": "46f7540c",
   "metadata": {},
   "outputs": [
    {
     "data": {
      "text/plain": [
       "array([1, 2, 3, 4, 5, 6])"
      ]
     },
     "execution_count": 2,
     "metadata": {},
     "output_type": "execute_result"
    }
   ],
   "source": [
    "\n",
    "a1 = np.array([1, 2, 3, 4, 5, 6])\n",
    "a1"
   ]
  },
  {
   "cell_type": "markdown",
   "id": "6458930e",
   "metadata": {},
   "source": [
    "### Um array bidimensional ficaria assim:"
   ]
  },
  {
   "cell_type": "code",
   "execution_count": 3,
   "id": "a550c606",
   "metadata": {},
   "outputs": [
    {
     "data": {
      "text/plain": [
       "array([[1, 2, 3],\n",
       "       [4, 5, 6],\n",
       "       [7, 8, 9]])"
      ]
     },
     "execution_count": 3,
     "metadata": {},
     "output_type": "execute_result"
    }
   ],
   "source": [
    "\n",
    "a2 = np.array([[1, 2, 3], [4, 5, 6], [7, 8, 9]])\n",
    "a2"
   ]
  },
  {
   "cell_type": "markdown",
   "id": "558a3343",
   "metadata": {},
   "source": [
    "### Um array n-dimensional poderia ser:"
   ]
  },
  {
   "cell_type": "code",
   "execution_count": 4,
   "id": "266571bc",
   "metadata": {},
   "outputs": [
    {
     "data": {
      "text/plain": [
       "array([[[0, 1, 2, 3],\n",
       "        [4, 5, 6, 7]],\n",
       "\n",
       "       [[0, 1, 2, 3],\n",
       "        [4, 5, 6, 7]],\n",
       "\n",
       "       [[0, 1, 2, 3],\n",
       "        [4, 5, 6, 7]]])"
      ]
     },
     "execution_count": 4,
     "metadata": {},
     "output_type": "execute_result"
    }
   ],
   "source": [
    "\n",
    "a3 = np.array([[[0, 1, 2, 3],[4, 5, 6, 7]],[[0, 1, 2, 3],[4, 5, 6, 7]],[[0 ,1 ,2, 3],[4, 5, 6, 7]]])\n",
    "a3"
   ]
  },
  {
   "cell_type": "markdown",
   "id": "fa500a59",
   "metadata": {},
   "source": [
    "### Isto gerará um array com os números de 0 a 99.\n",
    "\n",
    "#### Os métodos np.zeros(), np.ones e np.empy() \n",
    "#### funcionam de forma parecida. O primeiro gera um array de zeros.\n",
    "#### O segundo, de números 1 (um). O terceiro, uma lista com elementos numéricos quaisquer.\n",
    "#### Entre parênteses, devemos informar a quantidade de elementos do array."
   ]
  },
  {
   "cell_type": "code",
   "execution_count": 6,
   "id": "65821a33",
   "metadata": {},
   "outputs": [
    {
     "data": {
      "text/plain": [
       "array([ 0,  1,  2,  3,  4,  5,  6,  7,  8,  9, 10, 11, 12, 13, 14, 15, 16,\n",
       "       17, 18, 19, 20, 21, 22, 23, 24, 25, 26, 27, 28, 29, 30, 31, 32, 33,\n",
       "       34, 35, 36, 37, 38, 39, 40, 41, 42, 43, 44, 45, 46, 47, 48, 49, 50,\n",
       "       51, 52, 53, 54, 55, 56, 57, 58, 59, 60, 61, 62, 63, 64, 65, 66, 67,\n",
       "       68, 69, 70, 71, 72, 73, 74, 75, 76, 77, 78, 79, 80, 81, 82, 83, 84,\n",
       "       85, 86, 87, 88, 89, 90, 91, 92, 93, 94, 95, 96, 97, 98, 99])"
      ]
     },
     "execution_count": 6,
     "metadata": {},
     "output_type": "execute_result"
    }
   ],
   "source": [
    "\n",
    "a4 = np.arange(100)\n",
    "a4"
   ]
  },
  {
   "cell_type": "markdown",
   "id": "2cf38b4d",
   "metadata": {},
   "source": [
    "### Podemos ordenar um array com o método sort():"
   ]
  },
  {
   "cell_type": "code",
   "execution_count": 9,
   "id": "8c53525f",
   "metadata": {},
   "outputs": [
    {
     "data": {
      "text/plain": [
       "array([0, 1, 2, 3, 4, 5, 6, 7, 8, 9])"
      ]
     },
     "execution_count": 9,
     "metadata": {},
     "output_type": "execute_result"
    }
   ],
   "source": [
    "\n",
    "a5 = np.array([6, 7, 2, 4, 5, 3, 8, 1, 9, 0])\n",
    "np.sort(a5)"
   ]
  },
  {
   "cell_type": "markdown",
   "id": "ba3cf32b",
   "metadata": {},
   "source": [
    "### Ou remodelar um array — no nosso caso, de 9 elementos para 3 linhas e 3 colunas — com reshape():"
   ]
  },
  {
   "cell_type": "code",
   "execution_count": 10,
   "id": "3c392961",
   "metadata": {},
   "outputs": [
    {
     "data": {
      "text/plain": [
       "array([[1, 2, 3],\n",
       "       [4, 5, 6],\n",
       "       [7, 8, 9]])"
      ]
     },
     "execution_count": 10,
     "metadata": {},
     "output_type": "execute_result"
    }
   ],
   "source": [
    "a6 = np.array([1, 2, 3, 4, 5, 6, 7, 8, 9])\n",
    "a6.reshape(3,3)"
   ]
  },
  {
   "cell_type": "markdown",
   "id": "4208307e",
   "metadata": {},
   "source": [
    "### concatenar dois arrays em um único com concatenate():"
   ]
  },
  {
   "cell_type": "code",
   "execution_count": 11,
   "id": "449312cd",
   "metadata": {},
   "outputs": [
    {
     "data": {
      "text/plain": [
       "array([0, 1, 2, 3, 4, 5, 6, 7, 8, 9])"
      ]
     },
     "execution_count": 11,
     "metadata": {},
     "output_type": "execute_result"
    }
   ],
   "source": [
    "a71 = np.array([0,1,2,3,4])\n",
    "a72 = np.array([5,6,7,8,9])\n",
    "np.concatenate((a71, a72))"
   ]
  },
  {
   "cell_type": "markdown",
   "id": "3df3340a",
   "metadata": {},
   "source": [
    "### Podemos fatiar um array em outros arrays, da mesma forma que fazemos fatiamento (slicing) em listas de Python:"
   ]
  },
  {
   "cell_type": "code",
   "execution_count": 12,
   "id": "3e84e948",
   "metadata": {},
   "outputs": [],
   "source": [
    "a80 = np.array([0, 1, 2, 3, 4, 5, 6, 7, 8, 9])\n",
    "a81 = a80[3:6] # Resultado: array([3, 4, 5])\n",
    "a82 = a80[5:]  # Resultado: array([5, 6, 7, 8, 9])"
   ]
  },
  {
   "cell_type": "code",
   "execution_count": 13,
   "id": "e4f0467d",
   "metadata": {},
   "outputs": [
    {
     "data": {
      "text/plain": [
       "array([3, 4, 5])"
      ]
     },
     "execution_count": 13,
     "metadata": {},
     "output_type": "execute_result"
    }
   ],
   "source": [
    "a81"
   ]
  },
  {
   "cell_type": "code",
   "execution_count": 14,
   "id": "d7446227",
   "metadata": {},
   "outputs": [
    {
     "data": {
      "text/plain": [
       "array([5, 6, 7, 8, 9])"
      ]
     },
     "execution_count": 14,
     "metadata": {},
     "output_type": "execute_result"
    }
   ],
   "source": [
    "a82"
   ]
  },
  {
   "cell_type": "markdown",
   "id": "840696e6",
   "metadata": {},
   "source": [
    "### Podemos, também, dividir uma matriz com duas colunas em dois arrays diferentes com array_split():"
   ]
  },
  {
   "cell_type": "code",
   "execution_count": 16,
   "id": "3c288ec9",
   "metadata": {},
   "outputs": [
    {
     "data": {
      "text/plain": [
       "[array([['1', '2', '3', '4', '5']], dtype='<U11'),\n",
       " array([['a', 'b', 'c', 'd', 'e']], dtype='<U11')]"
      ]
     },
     "execution_count": 16,
     "metadata": {},
     "output_type": "execute_result"
    }
   ],
   "source": [
    "a90 = np.array([[1, 2, 3, 4, 5],['a','b','c','d','e']])\n",
    "a91 = np.array_split(a90, (2))\n",
    "a91"
   ]
  },
  {
   "cell_type": "markdown",
   "id": "b96024ba",
   "metadata": {},
   "source": [
    "### O método ndim permite saber a dimensão (como, neste exemplo, do nosso array atribuído à variável a3, anteriormente):"
   ]
  },
  {
   "cell_type": "code",
   "execution_count": 18,
   "id": "6c232954",
   "metadata": {},
   "outputs": [
    {
     "data": {
      "text/plain": [
       "3"
      ]
     },
     "execution_count": 18,
     "metadata": {},
     "output_type": "execute_result"
    }
   ],
   "source": [
    "a3.ndim\n",
    "# Resultado: 3 (significa que tem 3 dimensões)"
   ]
  },
  {
   "cell_type": "markdown",
   "id": "c6337286",
   "metadata": {},
   "source": [
    "### Para o tamanho, usamos size"
   ]
  },
  {
   "cell_type": "code",
   "execution_count": 19,
   "id": "7bdc31c6",
   "metadata": {},
   "outputs": [
    {
     "data": {
      "text/plain": [
       "24"
      ]
     },
     "execution_count": 19,
     "metadata": {},
     "output_type": "execute_result"
    }
   ],
   "source": [
    "a3.size\n",
    "# Resultado: 3 (significa que tem 24 elementos)"
   ]
  },
  {
   "cell_type": "markdown",
   "id": "a9169a5a",
   "metadata": {},
   "source": [
    "### Nosso array a1 possui 6 elementos, de 1 a 6. Podemos fatiar todos os que estão antes do índice 3 com:"
   ]
  },
  {
   "cell_type": "code",
   "execution_count": 20,
   "id": "431a2dda",
   "metadata": {},
   "outputs": [
    {
     "data": {
      "text/plain": [
       "array([1, 2])"
      ]
     },
     "execution_count": 20,
     "metadata": {},
     "output_type": "execute_result"
    }
   ],
   "source": [
    "a1[a1 < 3]\n",
    "# Resultado: array([1, 2])"
   ]
  },
  {
   "cell_type": "markdown",
   "id": "ba8c199a",
   "metadata": {},
   "source": [
    "### encontrar todos os elementos divisíveis por 2 com:\n"
   ]
  },
  {
   "cell_type": "code",
   "execution_count": 21,
   "id": "9bf8104d",
   "metadata": {},
   "outputs": [
    {
     "data": {
      "text/plain": [
       "array([2, 4, 6])"
      ]
     },
     "execution_count": 21,
     "metadata": {},
     "output_type": "execute_result"
    }
   ],
   "source": [
    "a1[a1%2==0]\n",
    "# Resultado: array([2, 4, 6])"
   ]
  },
  {
   "cell_type": "markdown",
   "id": "763c7763",
   "metadata": {},
   "source": [
    "### Operações básicas"
   ]
  },
  {
   "cell_type": "code",
   "execution_count": 22,
   "id": "4af137df",
   "metadata": {},
   "outputs": [
    {
     "name": "stdout",
     "output_type": "stream",
     "text": [
      "[3 4 3 3]\n",
      "[-1  0  1 -1]\n",
      "[2 4 2 2]\n",
      "[0.5 1.  2.  0.5]\n"
     ]
    }
   ],
   "source": [
    "b1 = np.array([1,2,2,1])\n",
    "b2 = np.array([2,2,1,2])\n",
    "print(b1 + b2)\n",
    "print(b1 - b2)\n",
    "print(b1 * b2)\n",
    "print(b1 / b2)"
   ]
  },
  {
   "cell_type": "markdown",
   "id": "c2036b44",
   "metadata": {},
   "source": [
    "### Se quisermos somar todos os elementos de arrays, usamos sum():"
   ]
  },
  {
   "cell_type": "code",
   "execution_count": 23,
   "id": "948dc916",
   "metadata": {},
   "outputs": [
    {
     "data": {
      "text/plain": [
       "45"
      ]
     },
     "execution_count": 23,
     "metadata": {},
     "output_type": "execute_result"
    }
   ],
   "source": [
    "b3 = np.array([0,1,2,3,4,5,6,7,8,9])\n",
    "b3.sum()"
   ]
  },
  {
   "cell_type": "markdown",
   "id": "5f0d2f5a",
   "metadata": {},
   "source": [
    "### Precisamos saber qual o maior elemento? Usamos max():"
   ]
  },
  {
   "cell_type": "code",
   "execution_count": 24,
   "id": "59d406cc",
   "metadata": {},
   "outputs": [
    {
     "data": {
      "text/plain": [
       "9"
      ]
     },
     "execution_count": 24,
     "metadata": {},
     "output_type": "execute_result"
    }
   ],
   "source": [
    "b3.max()"
   ]
  },
  {
   "cell_type": "markdown",
   "id": "46df230d",
   "metadata": {},
   "source": [
    "### O menor elemento é buscado com min():"
   ]
  },
  {
   "cell_type": "code",
   "execution_count": 25,
   "id": "91fdd0fa",
   "metadata": {},
   "outputs": [
    {
     "data": {
      "text/plain": [
       "0"
      ]
     },
     "execution_count": 25,
     "metadata": {},
     "output_type": "execute_result"
    }
   ],
   "source": [
    "b3.min()"
   ]
  },
  {
   "cell_type": "markdown",
   "id": "1a9b95b8",
   "metadata": {},
   "source": [
    "### Queremos a média, uma medida já da Estatística Descritiva? Numpy fornece por meio de mean():"
   ]
  },
  {
   "cell_type": "code",
   "execution_count": 26,
   "id": "a76925da",
   "metadata": {},
   "outputs": [
    {
     "data": {
      "text/plain": [
       "4.5"
      ]
     },
     "execution_count": 26,
     "metadata": {},
     "output_type": "execute_result"
    }
   ],
   "source": [
    "b3.mean()\n",
    "# Resultado: 4.5"
   ]
  },
  {
   "cell_type": "markdown",
   "id": "b4b9f6c3",
   "metadata": {},
   "source": [
    "### Para multiplicar todos os elementos de um vetor, usamos prod():"
   ]
  },
  {
   "cell_type": "code",
   "execution_count": 27,
   "id": "339b7f92",
   "metadata": {},
   "outputs": [
    {
     "data": {
      "text/plain": [
       "15"
      ]
     },
     "execution_count": 27,
     "metadata": {},
     "output_type": "execute_result"
    }
   ],
   "source": [
    "b4 = ([1,3,5])\n",
    "np.prod(b4)\n",
    "# Resultado: 15"
   ]
  },
  {
   "cell_type": "code",
   "execution_count": null,
   "id": "bd447f08",
   "metadata": {},
   "outputs": [],
   "source": []
  }
 ],
 "metadata": {
  "kernelspec": {
   "display_name": "Python 3 (ipykernel)",
   "language": "python",
   "name": "python3"
  },
  "language_info": {
   "codemirror_mode": {
    "name": "ipython",
    "version": 3
   },
   "file_extension": ".py",
   "mimetype": "text/x-python",
   "name": "python",
   "nbconvert_exporter": "python",
   "pygments_lexer": "ipython3",
   "version": "3.9.12"
  }
 },
 "nbformat": 4,
 "nbformat_minor": 5
}
